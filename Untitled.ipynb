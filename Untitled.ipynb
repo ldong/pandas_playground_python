{
 "cells": [
  {
   "cell_type": "code",
   "execution_count": 55,
   "metadata": {},
   "outputs": [],
   "source": [
    "import pandas as pd\n",
    "import csv\n",
    "import numpy as np\n",
    "\n",
    "df = pd.read_csv('iris_data.csv')\n",
    "\n",
    "# df.head(5)\n",
    "\n",
    "\n",
    "# df[df.sepal_length_cm < 1]['sepal_length_cm'] * 100\n",
    "\n",
    "# df[df.sepal_length_cm < 1]\n",
    "\n",
    "# df.apply\n",
    "\n",
    "# df.drop(df[(df.sepal_length_cm < 1) & (df['class'] == 'Iris-setosa')].index)\n",
    "\n",
    "# before\n",
    "# df[77:81]\n",
    "\n",
    "\n",
    "# after\n",
    "# def convert_to_cm_if_not_cm_already(data):\n",
    "#     if data < 1:\n",
    "#         return data * 100\n",
    "#     return data\n",
    "\n",
    "# df['sepal_length_cm'] = df.apply(lambda row: convert_to_cm_if_not_cm_already(row['sepal_length_cm']), axis=1)\n",
    "\n",
    "# df[77:81]\n",
    "\n",
    "# df[df.sepal_length_cm < 1] = df[df.sepal_length_cm < 1].sepal_length_cm * 100\n",
    "# df[77:81]\n",
    "\n",
    "\n",
    "selected = df[df.sepal_length_cm < 1].sepal_length_cm\n",
    "\n",
    "for row, val in selected.iteritems():\n",
    "    df.loc[row, 'sepal_length_cm'] = val * 100\n",
    "\n",
    "df[77:81]\n",
    "\n",
    "# df[77:81] = a.map(lambda x: x * 100)\n",
    "\n",
    "# df[df.sepal_length_cm < 1].sepal_length_cm = a.map(lambda x: x * 100)\n",
    "\n",
    "\n",
    "df.to_csv('clean_data.csv')"
   ]
  },
  {
   "cell_type": "code",
   "execution_count": null,
   "metadata": {},
   "outputs": [],
   "source": []
  }
 ],
 "metadata": {
  "kernelspec": {
   "display_name": "Python 3",
   "language": "python",
   "name": "python3"
  },
  "language_info": {
   "codemirror_mode": {
    "name": "ipython",
    "version": 3
   },
   "file_extension": ".py",
   "mimetype": "text/x-python",
   "name": "python",
   "nbconvert_exporter": "python",
   "pygments_lexer": "ipython3",
   "version": "3.7.0"
  }
 },
 "nbformat": 4,
 "nbformat_minor": 2
}
